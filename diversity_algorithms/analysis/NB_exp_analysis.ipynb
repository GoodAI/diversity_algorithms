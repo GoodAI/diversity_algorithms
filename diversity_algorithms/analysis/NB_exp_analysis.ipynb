{
 "cells": [
  {
   "cell_type": "code",
   "execution_count": null,
   "metadata": {},
   "outputs": [],
   "source": [
    "%matplotlib inline\n",
    "import matplotlib.pyplot as plt\n",
    "import pickle\n",
    "import numpy as np\n",
    "\n",
    "#TO BE FIXED: not very clean, but revealed to be necessary on my computer... (SD)\n",
    "import sys\n",
    "sys.path.append(\"/Users/doncieux/git/diversity_algorithms_dev\")\n",
    "sys.path.append(\"/Users/doncieux/git/fastsim_gym\")\n",
    "\n",
    "from diversity_algorithms.experiments.maze_ns_exploration import *\n"
   ]
  },
  {
   "cell_type": "markdown",
   "metadata": {},
   "source": [
    "# Analyzing an experiment\n",
    "\n",
    "This notebook contains the skeleton of code toanalyze the result of a run.\n",
    "\n",
    "The experiment needs to have been generated with experiments/maze_ns_exploration.py. Exemple:\n",
    "```\n",
    "python3 -m scoop maze_ns_exploration.py -p 200 -g 1000 -e 0\n",
    "```\n",
    "to call novelty search for 1000 generations and a population size of 200. The run is parallelized with scoop. The '-e 0' argument avoids to test the evolvability per individual (that takes ages as it has to generate X new individuals per individual...).\n",
    "\n",
    "Once the run is finished, a directory contains all the files generated during th run (depends on the options you have transmitted to the script).  containing the population of the last generation, the logbook and the name of the dir where the dump files are, is generated.\n",
    "\n"
   ]
  },
  {
   "cell_type": "code",
   "execution_count": null,
   "metadata": {},
   "outputs": [],
   "source": [
    "res_dir=\"<my res file>\" # put here the name of the automatically generated run name (something like 2019_08_13-16:39:05_0)\n",
    "\n",
    "params=np.load(res_dir+\"/params.npz\", allow_pickle=True)\n",
    "info=open(res_dir+\"/info.log\",\"r\")\n",
    "print(\"Infos on the run: \"+\" \".join(info.readlines()[1:]))\n",
    "info.close()\n",
    "print(\"Run params: \")\n",
    "for k in params.keys():\n",
    "    print(\"   %s: \"%(k)+str(params[k]))\n",
    "\n",
    "  \n",
    "nb_bin=int(params[\"NB_BIN\"])\n",
    "min_x=params[\"MIN_X\"]\n",
    "max_x=params[\"MAX_X\"]\n",
    "\n",
    "print(\"Loading logbook for the last generation, i.e. gen %d\"%(params[\"NGEN\"]))\n",
    "logbook=np.load(res_dir+\"/logbook_gen%d.npz\"%(params[\"NGEN\"]), allow_pickle=True)\n",
    "print(\"Keys in the logbook: \"+str(list(logbook.keys())))\n"
   ]
  },
  {
   "cell_type": "markdown",
   "metadata": {},
   "source": [
    "## Plotting Behavior descriptors\n",
    "\n",
    "If you have dumped behavior descriptors, here is the code to plot them.\n",
    "\n",
    "### All generated behavior descriptors"
   ]
  },
  {
   "cell_type": "code",
   "execution_count": null,
   "metadata": {},
   "outputs": [],
   "source": [
    "# loading points\n",
    "import importlib\n",
    "import diversity_algorithms.analysis.data_utils\n",
    "import diversity_algorithms.analysis.maze_plot\n",
    "\n",
    "bdfiles = diversity_algorithms.analysis.data_utils.get_bdfiles_per_gen([res_dir])\n",
    "points = diversity_algorithms.analysis.data_utils.get_points_per_gen_from_bdfiles(bdfiles)\n",
    "allpoints = diversity_algorithms.analysis.data_utils.merge_gens(points)\n",
    "\n",
    "# To plot only the bd from gen x to gen y:\n",
    "#points_x_y = diversity_algorithms.analysis.data_utils.merge_gens(points,min_gen=x,max_gen=y)\n",
    "\n",
    "\n",
    "print(\"Read BD: len allpoints=%d\"%(len(allpoints)))\n"
   ]
  },
  {
   "cell_type": "code",
   "execution_count": null,
   "metadata": {},
   "outputs": [],
   "source": [
    "# plotting bd\n",
    "grid_all=build_grid(min_x, max_x, nb_bin)\n",
    "update_grid(grid_all,min_x, max_x, allpoints)\n",
    "print(\"Coverage for all points: %f  nb_bin=%d\"%(coverage(grid_all),nb_bin))\n",
    "\n",
    "diversity_algorithms.analysis.maze_plot.plot_points(allpoints,title=\"Behavior descriptors\")"
   ]
  },
  {
   "cell_type": "markdown",
   "metadata": {},
   "source": [
    "### Only the behavior descriptors of the population (i.e. selected individuals, from parents+offspring in general)"
   ]
  },
  {
   "cell_type": "code",
   "execution_count": null,
   "metadata": {},
   "outputs": [],
   "source": [
    "# loading the data\n",
    "bdpopfiles = diversity_algorithms.analysis.data_utils.get_bdpopfiles_per_gen([res_dir])\n",
    "pointspop = diversity_algorithms.analysis.data_utils.get_points_per_gen_from_bdfiles(bdpopfiles)\n",
    "allpointspop = diversity_algorithms.analysis.data_utils.merge_gens(pointspop)\n",
    "\n",
    "print(\"Read BD: len allpointspop=%d\"%(len(allpointspop)))\n"
   ]
  },
  {
   "cell_type": "code",
   "execution_count": null,
   "metadata": {},
   "outputs": [],
   "source": [
    "# plotting bd\n",
    "grid_all_pop=build_grid(min_x, max_x, nb_bin)\n",
    "update_grid(grid_all_pop,min_x, max_x, allpointspop)\n",
    "print(\"Coverage for all points pop: %f  nb_bin=%d\"%(coverage(grid_all_pop),nb_bin))\n",
    "\n",
    "diversity_algorithms.analysis.maze_plot.plot_points(allpointspop,title=\"Behavior descriptors\")"
   ]
  },
  {
   "cell_type": "markdown",
   "metadata": {},
   "source": [
    "## Looking at stats\n"
   ]
  },
  {
   "cell_type": "code",
   "execution_count": null,
   "metadata": {},
   "outputs": [],
   "source": [
    "print(\"Keys in the logbook: \"+str(list(logbook.keys())))\n",
    "print(str(type(logbook[\"population_glob_cov\"])))"
   ]
  },
  {
   "cell_type": "code",
   "execution_count": null,
   "metadata": {},
   "outputs": [],
   "source": [
    "#print(logbook[\"glob_cov\"])\n",
    "gcovpop=[gc[0] for gc in logbook[\"population_glob_cov\"]]\n",
    "gdistpop=[gc[1] for gc in logbook[\"population_glob_cov\"]]\n",
    "gcovoff=[gc[0] for gc in logbook[\"offspring_glob_cov\"]]\n",
    "gdistoff=[gc[1] for gc in logbook[\"offspring_glob_cov\"]]\n",
    "\n",
    "\n",
    "print(\"Global coverage\")\n",
    "fig, axs = plt.subplots(1, 2, figsize=(15, 5))\n",
    "fig.suptitle(\"Values of set of indivs on a sliding window of %d generations\"%(params[\"GLOBAL_WINDOW_SIZE\"]))\n",
    "axs[0].set_ylim(0,1)\n",
    "axs[0].plot(logbook[\"gen\"],gcovpop, label=\"population (selected indivs)\")\n",
    "axs[0].plot(logbook[\"gen\"],gcovoff, label=\"offspring (all generated indivs)\")\n",
    "axs[1].plot(logbook[\"gen\"],gdistpop, label=\"population (selected indivs)\")\n",
    "axs[1].plot(logbook[\"gen\"],gdistoff, label=\"offspring (all generated indivs)\")\n",
    "axs[0].legend(loc='upper left')\n",
    "axs[1].legend(loc='upper left')\n",
    "axs[0].set_title(\"Coverage\")\n",
    "axs[1].set_title(\"Distance to uniform\")\n",
    "\n",
    "plt.show()\n",
    "\n"
   ]
  },
  {
   "cell_type": "code",
   "execution_count": null,
   "metadata": {},
   "outputs": [],
   "source": []
  }
 ],
 "metadata": {
  "kernelspec": {
   "display_name": "Python 3",
   "language": "python",
   "name": "python3"
  },
  "language_info": {
   "codemirror_mode": {
    "name": "ipython",
    "version": 3
   },
   "file_extension": ".py",
   "mimetype": "text/x-python",
   "name": "python",
   "nbconvert_exporter": "python",
   "pygments_lexer": "ipython3",
   "version": "3.6.4"
  }
 },
 "nbformat": 4,
 "nbformat_minor": 2
}
