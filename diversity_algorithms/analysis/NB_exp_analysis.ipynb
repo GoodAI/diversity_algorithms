{
 "cells": [
  {
   "cell_type": "code",
   "execution_count": null,
   "metadata": {},
   "outputs": [],
   "source": [
    "%matplotlib inline\n",
    "import matplotlib.pyplot as plt\n",
    "import pickle\n",
    "\n",
    "#TO BE FIXED: not very clean, but revealed to be necessary on my computer... (SD)\n",
    "import sys\n",
    "sys.path.append(\"/Users/doncieux/git/diversity_algorithms_dev\")\n",
    "sys.path.append(\"/Users/doncieux/git/fastsim_gym\")\n",
    "\n",
    "\n",
    "from diversity_algorithms.experiments.maze_ns_exploration import *"
   ]
  },
  {
   "cell_type": "markdown",
   "metadata": {},
   "source": [
    "# Analyzing an experiment\n",
    "\n",
    "This notebook contains the skeleton of code toanalyze the result of a run.\n",
    "\n",
    "The experiment needs to have been generated with experiments/maze_ns_exploration.py. Exemple:\n",
    "```\n",
    "python3 -m scoop maze_ns_exploration.py -p 200 -g 1000\n",
    "```\n",
    "to call novelty search for 1000 generations and a population size of 200. The run is parallelized with scoop.\n",
    "\n",
    "Once the run is finished, a file containing the population of the last generation, the logbook and the name of the dir where the dump files are, is generated.\n",
    "\n"
   ]
  },
  {
   "cell_type": "code",
   "execution_count": null,
   "metadata": {},
   "outputs": [],
   "source": [
    "res_file=\"<my res file>\"\n",
    "f=open(res_file,\"rb\")\n",
    "x=pickle.load(f)\n",
    "f.close()\n",
    "print(\"Read keys: \"+str(x.keys()))"
   ]
  },
  {
   "cell_type": "code",
   "execution_count": null,
   "metadata": {},
   "outputs": [],
   "source": []
  }
 ],
 "metadata": {
  "kernelspec": {
   "display_name": "Python 3",
   "language": "python",
   "name": "python3"
  },
  "language_info": {
   "codemirror_mode": {
    "name": "ipython",
    "version": 3
   },
   "file_extension": ".py",
   "mimetype": "text/x-python",
   "name": "python",
   "nbconvert_exporter": "python",
   "pygments_lexer": "ipython3",
   "version": "3.6.4"
  }
 },
 "nbformat": 4,
 "nbformat_minor": 2
}
